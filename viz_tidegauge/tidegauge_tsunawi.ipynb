import numpy as np
import matplotlib.pyplot as plt
import pandas as pd

# File path
file_path = 'TG_GunungSitoli_OK_.out'

# --- 📌 PARSE METADATA ---
with open(file_path, 'r') as f:
    lines = f.readlines()

# Ambil nama lokasi dari baris pertama (setelah tanda '%')
namalokasi = lines[0].replace('%', '').strip()

# Cari baris yang mengandung 'Distance' dan ambil angkanya
for line in lines:
    if 'Distance [m] to grid node' in line:
        distance_m = float(line.strip().split()[-1])
        break

distance_km = distance_m / 1000.0  # ubah ke km

# --- 📊 LOAD DATA ---
# Skip baris yang diawali '%' dan hanya ambil data numerik
df = pd.read_csv(file_path, delim_whitespace=True, comment='%', header=None, names=['time_since_rupture', 'sea_surface_elevation'])

# Urutkan berdasarkan waktu
df.sort_values('time_since_rupture', inplace=True)

# --- 📈 PLOT ---
plt.figure(figsize=(10, 6))
plt.plot(df['time_since_rupture'], df['sea_surface_elevation'], linestyle='-', color='b', label='Sea Surface Elevation')

# Tambahkan judul otomatis
plt.title(f'Station Tidegauge {namalokasi}\nJarak ke grid node: {distance_km:.3f} km')

# Label sumbu dan lainnya
plt.xlabel('Time Since Rupture [min]')
plt.ylabel('Sea Surface Elevation [m]')
plt.legend()
plt.grid()
plt.tight_layout()
plt.show()
